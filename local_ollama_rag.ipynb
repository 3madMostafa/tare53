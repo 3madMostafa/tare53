{
 "cells": [
  {
   "cell_type": "markdown",
   "id": "d4d5cab6-515e-4dd6-95ae-6393f0c4435c",
   "metadata": {},
   "source": [
    "## Ingesting PDF"
   ]
  },
  {
   "cell_type": "code",
   "execution_count": 1,
   "id": "c2e8b999-83ba-484a-9b94-f56c201d2036",
   "metadata": {},
   "outputs": [
    {
     "name": "stdout",
     "output_type": "stream",
     "text": [
      "Note: you may need to restart the kernel to use updated packages.\n"
     ]
    },
    {
     "name": "stderr",
     "output_type": "stream",
     "text": [
      "\n",
      "[notice] A new release of pip is available: 24.0 -> 24.2\n",
      "[notice] To update, run: python.exe -m pip install --upgrade pip\n"
     ]
    },
    {
     "name": "stdout",
     "output_type": "stream",
     "text": [
      "Note: you may need to restart the kernel to use updated packages.\n"
     ]
    },
    {
     "name": "stderr",
     "output_type": "stream",
     "text": [
      "ERROR: pip's dependency resolver does not currently take into account all the packages that are installed. This behaviour is the source of the following dependency conflicts.\n",
      "streamlit 1.34.0 requires protobuf<5,>=3.20, but you have protobuf 5.28.2 which is incompatible.\n",
      "tensorflow-intel 2.16.1 requires protobuf!=4.21.0,!=4.21.1,!=4.21.2,!=4.21.3,!=4.21.4,!=4.21.5,<5.0.0dev,>=3.20.3, but you have protobuf 5.28.2 which is incompatible.\n",
      "\n",
      "[notice] A new release of pip is available: 24.0 -> 24.2\n",
      "[notice] To update, run: python.exe -m pip install --upgrade pip\n"
     ]
    }
   ],
   "source": [
    "%pip install --q unstructured langchain\n",
    "%pip install --q \"unstructured[all-docs]\""
   ]
  },
  {
   "cell_type": "code",
   "execution_count": 1,
   "id": "3c0e2f74-7c4b-4665-8d87-bc00656f31e0",
   "metadata": {},
   "outputs": [],
   "source": [
    "from langchain_community.document_loaders import UnstructuredPDFLoader\n",
    "from langchain_community.document_loaders import OnlinePDFLoader"
   ]
  },
  {
   "cell_type": "code",
   "execution_count": 3,
   "id": "104c0b18-1c06-41a1-a2ca-f9ee23f4f952",
   "metadata": {},
   "outputs": [],
   "source": [
    "local_path = \"C:\\\\Users\\\\Administrator\\\\Downloads\\\\ollama_pdf_rag\\\\WEF_The_Global_Cooperation_Barometer_2024.pdf\"\n",
    "from langchain.document_loaders import PyPDFLoader\n",
    "\n",
    "# Local PDF file uploads\n",
    "if local_path:\n",
    "  loader = PyPDFLoader(file_path=local_path)\n",
    "  data = loader.load()\n",
    "else:\n",
    "  print(\"Upload a PDF file\")"
   ]
  },
  {
   "cell_type": "code",
   "execution_count": 4,
   "id": "38119195-9c91-4e58-aa46-8a74244032af",
   "metadata": {
    "scrolled": true
   },
   "outputs": [
    {
     "data": {
      "text/plain": [
       "'The Global Cooperation \\nBarometer 2024\\nINSIGHT REPORT\\nJANUARY 2024In collaboration with \\nMcKinsey & Company'"
      ]
     },
     "execution_count": 4,
     "metadata": {},
     "output_type": "execute_result"
    }
   ],
   "source": [
    "# Preview first page\n",
    "data[0].page_content"
   ]
  },
  {
   "cell_type": "markdown",
   "id": "c2faacc1-be29-4d52-a46e-94f5b5b8e728",
   "metadata": {},
   "source": [
    "## Vector Embeddings"
   ]
  },
  {
   "cell_type": "code",
   "execution_count": 12,
   "id": "838f1004",
   "metadata": {},
   "outputs": [
    {
     "name": "stdout",
     "output_type": "stream",
     "text": [
      "Requirement already satisfied: pip in c:\\users\\administrator\\appdata\\local\\programs\\python\\python312\\lib\\site-packages (24.0)\n",
      "Collecting pip\n",
      "  Downloading pip-24.2-py3-none-any.whl.metadata (3.6 kB)\n",
      "Downloading pip-24.2-py3-none-any.whl (1.8 MB)\n",
      "   ---------------------------------------- 0.0/1.8 MB ? eta -:--:--\n",
      "   ---------------------------------------- 0.0/1.8 MB ? eta -:--:--\n",
      "   ---------------------------------------- 0.0/1.8 MB ? eta -:--:--\n",
      "   ---------------------------------------- 0.0/1.8 MB ? eta -:--:--\n",
      "    --------------------------------------- 0.0/1.8 MB 220.2 kB/s eta 0:00:09\n",
      "    --------------------------------------- 0.0/1.8 MB 220.2 kB/s eta 0:00:09\n",
      "    --------------------------------------- 0.0/1.8 MB 179.6 kB/s eta 0:00:10\n",
      "   - -------------------------------------- 0.1/1.8 MB 204.8 kB/s eta 0:00:09\n",
      "   - -------------------------------------- 0.1/1.8 MB 204.8 kB/s eta 0:00:09\n",
      "   - -------------------------------------- 0.1/1.8 MB 209.0 kB/s eta 0:00:09\n",
      "   -- ------------------------------------- 0.1/1.8 MB 201.8 kB/s eta 0:00:09\n",
      "   -- ------------------------------------- 0.1/1.8 MB 201.8 kB/s eta 0:00:09\n",
      "   -- ------------------------------------- 0.1/1.8 MB 201.8 kB/s eta 0:00:09\n",
      "   -- ------------------------------------- 0.1/1.8 MB 201.8 kB/s eta 0:00:09\n",
      "   -- ------------------------------------- 0.1/1.8 MB 201.8 kB/s eta 0:00:09\n",
      "   -- ------------------------------------- 0.1/1.8 MB 201.8 kB/s eta 0:00:09\n",
      "   -- ------------------------------------- 0.1/1.8 MB 201.8 kB/s eta 0:00:09\n",
      "   -- ------------------------------------- 0.1/1.8 MB 201.8 kB/s eta 0:00:09\n",
      "   -- ------------------------------------- 0.1/1.8 MB 201.8 kB/s eta 0:00:09\n",
      "   -- ------------------------------------- 0.1/1.8 MB 201.8 kB/s eta 0:00:09\n",
      "   -- ------------------------------------- 0.1/1.8 MB 123.7 kB/s eta 0:00:14\n",
      "   -- ------------------------------------- 0.1/1.8 MB 128.7 kB/s eta 0:00:14\n",
      "   -- ------------------------------------- 0.1/1.8 MB 128.7 kB/s eta 0:00:14\n",
      "   -- ------------------------------------- 0.1/1.8 MB 128.7 kB/s eta 0:00:14\n",
      "   -- ------------------------------------- 0.1/1.8 MB 128.7 kB/s eta 0:00:14\n",
      "   -- ------------------------------------- 0.1/1.8 MB 128.7 kB/s eta 0:00:14\n",
      "   -- ------------------------------------- 0.1/1.8 MB 128.7 kB/s eta 0:00:14\n",
      "   -- ------------------------------------- 0.1/1.8 MB 128.7 kB/s eta 0:00:14\n",
      "   ----- ---------------------------------- 0.3/1.8 MB 201.8 kB/s eta 0:00:08\n",
      "   ----- ---------------------------------- 0.3/1.8 MB 201.8 kB/s eta 0:00:08\n",
      "   ----- ---------------------------------- 0.3/1.8 MB 201.8 kB/s eta 0:00:08\n",
      "   ------ --------------------------------- 0.3/1.8 MB 198.2 kB/s eta 0:00:08\n",
      "   ------ --------------------------------- 0.3/1.8 MB 198.2 kB/s eta 0:00:08\n",
      "   ------ --------------------------------- 0.3/1.8 MB 194.6 kB/s eta 0:00:08\n",
      "   ------ --------------------------------- 0.3/1.8 MB 198.0 kB/s eta 0:00:08\n",
      "   ------ --------------------------------- 0.3/1.8 MB 198.0 kB/s eta 0:00:08\n",
      "   ------- -------------------------------- 0.3/1.8 MB 201.2 kB/s eta 0:00:08\n",
      "   ------- -------------------------------- 0.3/1.8 MB 197.9 kB/s eta 0:00:08\n",
      "   ------- -------------------------------- 0.3/1.8 MB 197.9 kB/s eta 0:00:08\n",
      "   ------- -------------------------------- 0.4/1.8 MB 200.8 kB/s eta 0:00:08\n",
      "   ------- -------------------------------- 0.4/1.8 MB 200.8 kB/s eta 0:00:08\n",
      "   -------- ------------------------------- 0.4/1.8 MB 197.8 kB/s eta 0:00:08\n",
      "   -------- ------------------------------- 0.4/1.8 MB 197.8 kB/s eta 0:00:08\n",
      "   -------- ------------------------------- 0.4/1.8 MB 200.5 kB/s eta 0:00:08\n",
      "   -------- ------------------------------- 0.4/1.8 MB 200.5 kB/s eta 0:00:08\n",
      "   -------- ------------------------------- 0.4/1.8 MB 200.5 kB/s eta 0:00:08\n",
      "   -------- ------------------------------- 0.4/1.8 MB 200.5 kB/s eta 0:00:08\n",
      "   -------- ------------------------------- 0.4/1.8 MB 200.5 kB/s eta 0:00:08\n",
      "   -------- ------------------------------- 0.4/1.8 MB 200.5 kB/s eta 0:00:08\n",
      "   -------- ------------------------------- 0.4/1.8 MB 200.5 kB/s eta 0:00:08\n",
      "   --------- ------------------------------ 0.4/1.8 MB 176.3 kB/s eta 0:00:08\n",
      "   --------- ------------------------------ 0.4/1.8 MB 176.3 kB/s eta 0:00:08\n",
      "   --------- ------------------------------ 0.4/1.8 MB 174.8 kB/s eta 0:00:08\n",
      "   --------- ------------------------------ 0.5/1.8 MB 184.2 kB/s eta 0:00:08\n",
      "   --------- ------------------------------ 0.5/1.8 MB 184.2 kB/s eta 0:00:08\n",
      "   ---------- ----------------------------- 0.5/1.8 MB 185.5 kB/s eta 0:00:08\n",
      "   ----------- ---------------------------- 0.5/1.8 MB 201.1 kB/s eta 0:00:07\n",
      "   ----------- ---------------------------- 0.5/1.8 MB 201.4 kB/s eta 0:00:07\n",
      "   ----------- ---------------------------- 0.5/1.8 MB 201.4 kB/s eta 0:00:07\n",
      "   ------------ --------------------------- 0.6/1.8 MB 203.2 kB/s eta 0:00:07\n",
      "   ------------ --------------------------- 0.6/1.8 MB 203.2 kB/s eta 0:00:07\n",
      "   ------------ --------------------------- 0.6/1.8 MB 204.8 kB/s eta 0:00:07\n",
      "   ------------ --------------------------- 0.6/1.8 MB 204.8 kB/s eta 0:00:07\n",
      "   ------------ --------------------------- 0.6/1.8 MB 201.7 kB/s eta 0:00:07\n",
      "   ------------- -------------------------- 0.6/1.8 MB 203.3 kB/s eta 0:00:06\n",
      "   ------------- -------------------------- 0.6/1.8 MB 203.3 kB/s eta 0:00:06\n",
      "   ------------- -------------------------- 0.6/1.8 MB 201.4 kB/s eta 0:00:06\n",
      "   ------------- -------------------------- 0.6/1.8 MB 202.9 kB/s eta 0:00:06\n",
      "   ------------- -------------------------- 0.6/1.8 MB 202.9 kB/s eta 0:00:06\n",
      "   -------------- ------------------------- 0.7/1.8 MB 204.4 kB/s eta 0:00:06\n",
      "   -------------- ------------------------- 0.7/1.8 MB 204.4 kB/s eta 0:00:06\n",
      "   -------------- ------------------------- 0.7/1.8 MB 202.6 kB/s eta 0:00:06\n",
      "   -------------- ------------------------- 0.7/1.8 MB 202.6 kB/s eta 0:00:06\n",
      "   --------------- ------------------------ 0.7/1.8 MB 204.1 kB/s eta 0:00:06\n",
      "   --------------- ------------------------ 0.7/1.8 MB 204.1 kB/s eta 0:00:06\n",
      "   --------------- ------------------------ 0.7/1.8 MB 202.4 kB/s eta 0:00:06\n",
      "   --------------- ------------------------ 0.7/1.8 MB 203.7 kB/s eta 0:00:06\n",
      "   --------------- ------------------------ 0.7/1.8 MB 203.7 kB/s eta 0:00:06\n",
      "   ---------------- ----------------------- 0.7/1.8 MB 205.0 kB/s eta 0:00:06\n",
      "   ---------------- ----------------------- 0.7/1.8 MB 205.0 kB/s eta 0:00:06\n",
      "   ---------------- ----------------------- 0.7/1.8 MB 203.4 kB/s eta 0:00:06\n",
      "   ---------------- ----------------------- 0.7/1.8 MB 203.4 kB/s eta 0:00:06\n",
      "   ---------------- ----------------------- 0.8/1.8 MB 204.6 kB/s eta 0:00:06\n",
      "   ---------------- ----------------------- 0.8/1.8 MB 204.6 kB/s eta 0:00:06\n",
      "   ----------------- ---------------------- 0.8/1.8 MB 203.1 kB/s eta 0:00:06\n",
      "   ----------------- ---------------------- 0.8/1.8 MB 204.3 kB/s eta 0:00:05\n",
      "   ----------------- ---------------------- 0.8/1.8 MB 204.3 kB/s eta 0:00:05\n",
      "   ------------------ --------------------- 0.8/1.8 MB 205.5 kB/s eta 0:00:05\n",
      "   ------------------ --------------------- 0.8/1.8 MB 205.5 kB/s eta 0:00:05\n",
      "   ------------------ --------------------- 0.8/1.8 MB 204.0 kB/s eta 0:00:05\n",
      "   ------------------ --------------------- 0.8/1.8 MB 205.2 kB/s eta 0:00:05\n",
      "   ------------------ --------------------- 0.8/1.8 MB 205.2 kB/s eta 0:00:05\n",
      "   ------------------ --------------------- 0.9/1.8 MB 203.8 kB/s eta 0:00:05\n",
      "   ------------------ --------------------- 0.9/1.8 MB 203.8 kB/s eta 0:00:05\n",
      "   ------------------- -------------------- 0.9/1.8 MB 204.8 kB/s eta 0:00:05\n",
      "   ------------------- -------------------- 0.9/1.8 MB 205.8 kB/s eta 0:00:05\n",
      "   ------------------- -------------------- 0.9/1.8 MB 205.8 kB/s eta 0:00:05\n",
      "   -------------------- ------------------- 0.9/1.8 MB 204.5 kB/s eta 0:00:05\n",
      "   -------------------- ------------------- 0.9/1.8 MB 204.5 kB/s eta 0:00:05\n",
      "   -------------------- ------------------- 0.9/1.8 MB 206.3 kB/s eta 0:00:05\n",
      "   -------------------- ------------------- 0.9/1.8 MB 206.3 kB/s eta 0:00:05\n",
      "   -------------------- ------------------- 0.9/1.8 MB 204.3 kB/s eta 0:00:05\n",
      "   -------------------- ------------------- 0.9/1.8 MB 204.3 kB/s eta 0:00:05\n",
      "   --------------------- ------------------ 1.0/1.8 MB 205.2 kB/s eta 0:00:05\n",
      "   --------------------- ------------------ 1.0/1.8 MB 205.2 kB/s eta 0:00:05\n",
      "   --------------------- ------------------ 1.0/1.8 MB 205.5 kB/s eta 0:00:05\n",
      "   --------------------- ------------------ 1.0/1.8 MB 205.5 kB/s eta 0:00:05\n",
      "   --------------------- ------------------ 1.0/1.8 MB 204.3 kB/s eta 0:00:05\n",
      "   --------------------- ------------------ 1.0/1.8 MB 204.3 kB/s eta 0:00:05\n",
      "   ---------------------- ----------------- 1.0/1.8 MB 205.2 kB/s eta 0:00:04\n",
      "   ---------------------- ----------------- 1.0/1.8 MB 205.2 kB/s eta 0:00:04\n",
      "   ---------------------- ----------------- 1.0/1.8 MB 204.1 kB/s eta 0:00:04\n",
      "   ---------------------- ----------------- 1.0/1.8 MB 204.1 kB/s eta 0:00:04\n",
      "   ----------------------- ---------------- 1.0/1.8 MB 205.0 kB/s eta 0:00:04\n",
      "   ----------------------- ---------------- 1.0/1.8 MB 205.0 kB/s eta 0:00:04\n",
      "   ----------------------- ---------------- 1.1/1.8 MB 205.8 kB/s eta 0:00:04\n",
      "   ----------------------- ---------------- 1.1/1.8 MB 205.8 kB/s eta 0:00:04\n",
      "   ----------------------- ---------------- 1.1/1.8 MB 204.7 kB/s eta 0:00:04\n",
      "   ----------------------- ---------------- 1.1/1.8 MB 204.7 kB/s eta 0:00:04\n",
      "   ------------------------ --------------- 1.1/1.8 MB 205.5 kB/s eta 0:00:04\n",
      "   ------------------------ --------------- 1.1/1.8 MB 205.5 kB/s eta 0:00:04\n",
      "   ------------------------ --------------- 1.1/1.8 MB 204.5 kB/s eta 0:00:04\n",
      "   ------------------------ --------------- 1.1/1.8 MB 205.3 kB/s eta 0:00:04\n",
      "   ------------------------ --------------- 1.1/1.8 MB 205.3 kB/s eta 0:00:04\n",
      "   ------------------------- -------------- 1.1/1.8 MB 206.7 kB/s eta 0:00:04\n",
      "   ------------------------- -------------- 1.1/1.8 MB 206.7 kB/s eta 0:00:04\n",
      "   ------------------------- -------------- 1.2/1.8 MB 205.1 kB/s eta 0:00:04\n",
      "   ------------------------- -------------- 1.2/1.8 MB 205.1 kB/s eta 0:00:04\n",
      "   ------------------------- -------------- 1.2/1.8 MB 205.8 kB/s eta 0:00:04\n",
      "   -------------------------- ------------- 1.2/1.8 MB 204.8 kB/s eta 0:00:04\n",
      "   -------------------------- ------------- 1.2/1.8 MB 204.8 kB/s eta 0:00:04\n",
      "   -------------------------- ------------- 1.2/1.8 MB 205.6 kB/s eta 0:00:03\n",
      "   -------------------------- ------------- 1.2/1.8 MB 205.6 kB/s eta 0:00:03\n",
      "   --------------------------- ------------ 1.2/1.8 MB 206.3 kB/s eta 0:00:03\n",
      "   --------------------------- ------------ 1.2/1.8 MB 206.3 kB/s eta 0:00:03\n",
      "   --------------------------- ------------ 1.2/1.8 MB 205.3 kB/s eta 0:00:03\n",
      "   --------------------------- ------------ 1.2/1.8 MB 205.3 kB/s eta 0:00:03\n",
      "   --------------------------- ------------ 1.3/1.8 MB 206.1 kB/s eta 0:00:03\n",
      "   --------------------------- ------------ 1.3/1.8 MB 205.1 kB/s eta 0:00:03\n",
      "   --------------------------- ------------ 1.3/1.8 MB 205.1 kB/s eta 0:00:03\n",
      "   ---------------------------- ----------- 1.3/1.8 MB 205.9 kB/s eta 0:00:03\n",
      "   ---------------------------- ----------- 1.3/1.8 MB 205.9 kB/s eta 0:00:03\n",
      "   ---------------------------- ----------- 1.3/1.8 MB 206.6 kB/s eta 0:00:03\n",
      "   ----------------------------- ---------- 1.3/1.8 MB 205.6 kB/s eta 0:00:03\n",
      "   ----------------------------- ---------- 1.3/1.8 MB 205.6 kB/s eta 0:00:03\n",
      "   ----------------------------- ---------- 1.3/1.8 MB 205.6 kB/s eta 0:00:03\n",
      "   ----------------------------- ---------- 1.3/1.8 MB 205.3 kB/s eta 0:00:03\n",
      "   ----------------------------- ---------- 1.3/1.8 MB 205.3 kB/s eta 0:00:03\n",
      "   ----------------------------- ---------- 1.4/1.8 MB 203.9 kB/s eta 0:00:03\n",
      "   ----------------------------- ---------- 1.4/1.8 MB 203.9 kB/s eta 0:00:03\n",
      "   ------------------------------ --------- 1.4/1.8 MB 204.2 kB/s eta 0:00:03\n",
      "   ------------------------------ --------- 1.4/1.8 MB 205.3 kB/s eta 0:00:03\n",
      "   ------------------------------ --------- 1.4/1.8 MB 205.3 kB/s eta 0:00:03\n",
      "   ------------------------------ --------- 1.4/1.8 MB 204.4 kB/s eta 0:00:03\n",
      "   ------------------------------ --------- 1.4/1.8 MB 204.4 kB/s eta 0:00:03\n",
      "   ------------------------------- -------- 1.4/1.8 MB 204.6 kB/s eta 0:00:02\n",
      "   ------------------------------- -------- 1.4/1.8 MB 203.8 kB/s eta 0:00:02\n",
      "   ------------------------------- -------- 1.4/1.8 MB 203.8 kB/s eta 0:00:02\n",
      "   -------------------------------- ------- 1.5/1.8 MB 204.5 kB/s eta 0:00:02\n",
      "   -------------------------------- ------- 1.5/1.8 MB 204.5 kB/s eta 0:00:02\n",
      "   -------------------------------- ------- 1.5/1.8 MB 204.6 kB/s eta 0:00:02\n",
      "   -------------------------------- ------- 1.5/1.8 MB 204.6 kB/s eta 0:00:02\n",
      "   -------------------------------- ------- 1.5/1.8 MB 203.8 kB/s eta 0:00:02\n",
      "   -------------------------------- ------- 1.5/1.8 MB 203.8 kB/s eta 0:00:02\n",
      "   --------------------------------- ------ 1.5/1.8 MB 204.0 kB/s eta 0:00:02\n",
      "   --------------------------------- ------ 1.5/1.8 MB 204.0 kB/s eta 0:00:02\n",
      "   --------------------------------- ------ 1.5/1.8 MB 202.8 kB/s eta 0:00:02\n",
      "   --------------------------------- ------ 1.5/1.8 MB 202.8 kB/s eta 0:00:02\n",
      "   --------------------------------- ------ 1.5/1.8 MB 203.0 kB/s eta 0:00:02\n",
      "   --------------------------------- ------ 1.5/1.8 MB 203.0 kB/s eta 0:00:02\n",
      "   ---------------------------------- ----- 1.6/1.8 MB 203.6 kB/s eta 0:00:02\n",
      "   ---------------------------------- ----- 1.6/1.8 MB 203.6 kB/s eta 0:00:02\n",
      "   ---------------------------------- ----- 1.6/1.8 MB 203.3 kB/s eta 0:00:02\n",
      "   ---------------------------------- ----- 1.6/1.8 MB 203.3 kB/s eta 0:00:02\n",
      "   ---------------------------------- ----- 1.6/1.8 MB 203.5 kB/s eta 0:00:02\n",
      "   ---------------------------------- ----- 1.6/1.8 MB 203.5 kB/s eta 0:00:02\n",
      "   ----------------------------------- ---- 1.6/1.8 MB 202.8 kB/s eta 0:00:02\n",
      "   ----------------------------------- ---- 1.6/1.8 MB 203.0 kB/s eta 0:00:01\n",
      "   ----------------------------------- ---- 1.6/1.8 MB 203.0 kB/s eta 0:00:01\n",
      "   ------------------------------------ --- 1.6/1.8 MB 203.9 kB/s eta 0:00:01\n",
      "   ------------------------------------ --- 1.6/1.8 MB 203.9 kB/s eta 0:00:01\n",
      "   ------------------------------------ --- 1.6/1.8 MB 202.8 kB/s eta 0:00:01\n",
      "   ------------------------------------ --- 1.7/1.8 MB 203.4 kB/s eta 0:00:01\n",
      "   ------------------------------------ --- 1.7/1.8 MB 203.4 kB/s eta 0:00:01\n",
      "   ------------------------------------- -- 1.7/1.8 MB 202.7 kB/s eta 0:00:01\n",
      "   ------------------------------------- -- 1.7/1.8 MB 202.7 kB/s eta 0:00:01\n",
      "   ------------------------------------- -- 1.7/1.8 MB 202.9 kB/s eta 0:00:01\n",
      "   ------------------------------------- -- 1.7/1.8 MB 202.9 kB/s eta 0:00:01\n",
      "   ------------------------------------- -- 1.7/1.8 MB 203.1 kB/s eta 0:00:01\n",
      "   -------------------------------------- - 1.7/1.8 MB 202.8 kB/s eta 0:00:01\n",
      "   -------------------------------------- - 1.7/1.8 MB 202.8 kB/s eta 0:00:01\n",
      "   -------------------------------------- - 1.8/1.8 MB 203.3 kB/s eta 0:00:01\n",
      "   -------------------------------------- - 1.8/1.8 MB 203.3 kB/s eta 0:00:01\n",
      "   -------------------------------------- - 1.8/1.8 MB 201.6 kB/s eta 0:00:01\n",
      "   -------------------------------------- - 1.8/1.8 MB 201.6 kB/s eta 0:00:01\n",
      "   -------------------------------------- - 1.8/1.8 MB 201.6 kB/s eta 0:00:01\n",
      "   -------------------------------------- - 1.8/1.8 MB 201.6 kB/s eta 0:00:01\n",
      "   -------------------------------------- - 1.8/1.8 MB 201.6 kB/s eta 0:00:01\n",
      "   -------------------------------------- - 1.8/1.8 MB 201.6 kB/s eta 0:00:01\n",
      "   ---------------------------------------  1.8/1.8 MB 200.5 kB/s eta 0:00:01\n",
      "   ---------------------------------------- 1.8/1.8 MB 200.9 kB/s eta 0:00:00\n",
      "Installing collected packages: pip\n",
      "  Attempting uninstall: pip\n",
      "    Found existing installation: pip 24.0\n",
      "    Uninstalling pip-24.0:\n",
      "      Successfully uninstalled pip-24.0\n",
      "Successfully installed pip-24.2\n"
     ]
    }
   ],
   "source": [
    "!python.exe -m pip install --upgrade pip"
   ]
  },
  {
   "cell_type": "code",
   "execution_count": 13,
   "id": "45dc3f77",
   "metadata": {},
   "outputs": [
    {
     "name": "stdout",
     "output_type": "stream",
     "text": [
      "^C\n"
     ]
    }
   ],
   "source": [
    "!pip uninstall ollama"
   ]
  },
  {
   "cell_type": "code",
   "execution_count": 14,
   "id": "ab90da56",
   "metadata": {},
   "outputs": [
    {
     "name": "stdout",
     "output_type": "stream",
     "text": [
      "Requirement already satisfied: ollama in c:\\users\\administrator\\appdata\\local\\programs\\python\\python312\\lib\\site-packages (0.3.3)\n",
      "Requirement already satisfied: httpx<0.28.0,>=0.27.0 in c:\\users\\administrator\\appdata\\local\\programs\\python\\python312\\lib\\site-packages (from ollama) (0.27.0)\n",
      "Requirement already satisfied: anyio in c:\\users\\administrator\\appdata\\local\\programs\\python\\python312\\lib\\site-packages (from httpx<0.28.0,>=0.27.0->ollama) (4.3.0)\n",
      "Requirement already satisfied: certifi in c:\\users\\administrator\\appdata\\local\\programs\\python\\python312\\lib\\site-packages (from httpx<0.28.0,>=0.27.0->ollama) (2024.2.2)\n",
      "Requirement already satisfied: httpcore==1.* in c:\\users\\administrator\\appdata\\local\\programs\\python\\python312\\lib\\site-packages (from httpx<0.28.0,>=0.27.0->ollama) (1.0.5)\n",
      "Requirement already satisfied: idna in c:\\users\\administrator\\appdata\\local\\programs\\python\\python312\\lib\\site-packages (from httpx<0.28.0,>=0.27.0->ollama) (3.10)\n",
      "Requirement already satisfied: sniffio in c:\\users\\administrator\\appdata\\local\\programs\\python\\python312\\lib\\site-packages (from httpx<0.28.0,>=0.27.0->ollama) (1.3.1)\n",
      "Requirement already satisfied: h11<0.15,>=0.13 in c:\\users\\administrator\\appdata\\local\\programs\\python\\python312\\lib\\site-packages (from httpcore==1.*->httpx<0.28.0,>=0.27.0->ollama) (0.14.0)\n"
     ]
    }
   ],
   "source": [
    "!pip install ollama"
   ]
  },
  {
   "cell_type": "code",
   "execution_count": 17,
   "id": "f70f75cf",
   "metadata": {},
   "outputs": [
    {
     "name": "stderr",
     "output_type": "stream",
     "text": [
      "'ollama' is not recognized as an internal or external command,\n",
      "operable program or batch file.\n"
     ]
    }
   ],
   "source": [
    "!ollama --version"
   ]
  },
  {
   "cell_type": "code",
   "execution_count": null,
   "id": "b7a34f5b",
   "metadata": {},
   "outputs": [],
   "source": []
  },
  {
   "cell_type": "code",
   "execution_count": 10,
   "id": "b4d52c64",
   "metadata": {},
   "outputs": [
    {
     "name": "stdout",
     "output_type": "stream",
     "text": [
      "Requirement already satisfied: ollama in c:\\users\\administrator\\appdata\\local\\programs\\python\\python312\\lib\\site-packages (0.3.3)\n",
      "Requirement already satisfied: httpx<0.28.0,>=0.27.0 in c:\\users\\administrator\\appdata\\local\\programs\\python\\python312\\lib\\site-packages (from ollama) (0.27.0)\n",
      "Requirement already satisfied: anyio in c:\\users\\administrator\\appdata\\local\\programs\\python\\python312\\lib\\site-packages (from httpx<0.28.0,>=0.27.0->ollama) (4.3.0)\n",
      "Requirement already satisfied: certifi in c:\\users\\administrator\\appdata\\local\\programs\\python\\python312\\lib\\site-packages (from httpx<0.28.0,>=0.27.0->ollama) (2024.2.2)\n",
      "Requirement already satisfied: httpcore==1.* in c:\\users\\administrator\\appdata\\local\\programs\\python\\python312\\lib\\site-packages (from httpx<0.28.0,>=0.27.0->ollama) (1.0.5)\n",
      "Requirement already satisfied: idna in c:\\users\\administrator\\appdata\\local\\programs\\python\\python312\\lib\\site-packages (from httpx<0.28.0,>=0.27.0->ollama) (3.10)\n",
      "Requirement already satisfied: sniffio in c:\\users\\administrator\\appdata\\local\\programs\\python\\python312\\lib\\site-packages (from httpx<0.28.0,>=0.27.0->ollama) (1.3.1)\n",
      "Requirement already satisfied: h11<0.15,>=0.13 in c:\\users\\administrator\\appdata\\local\\programs\\python\\python312\\lib\\site-packages (from httpcore==1.*->httpx<0.28.0,>=0.27.0->ollama) (0.14.0)\n"
     ]
    },
    {
     "name": "stderr",
     "output_type": "stream",
     "text": [
      "\n",
      "[notice] A new release of pip is available: 24.0 -> 24.2\n",
      "[notice] To update, run: python.exe -m pip install --upgrade pip\n"
     ]
    }
   ],
   "source": [
    "!pip install ollama"
   ]
  },
  {
   "cell_type": "code",
   "execution_count": 11,
   "id": "2dcf2cfe-a7aa-4ecf-85e3-f77b9e850514",
   "metadata": {
    "scrolled": true
   },
   "outputs": [
    {
     "name": "stderr",
     "output_type": "stream",
     "text": [
      "'ollama' is not recognized as an internal or external command,\n",
      "operable program or batch file.\n"
     ]
    }
   ],
   "source": [
    "!ollama pull nomic-embed-text"
   ]
  },
  {
   "cell_type": "code",
   "execution_count": 9,
   "id": "39aebbf8-92bf-42e5-951e-40bb458852d5",
   "metadata": {},
   "outputs": [
    {
     "name": "stderr",
     "output_type": "stream",
     "text": [
      "'ollama' is not recognized as an internal or external command,\n",
      "operable program or batch file.\n"
     ]
    }
   ],
   "source": [
    "!ollama list"
   ]
  },
  {
   "cell_type": "code",
   "execution_count": 18,
   "id": "5394d61f-906b-4776-b8b5-9f0045c76193",
   "metadata": {},
   "outputs": [
    {
     "name": "stdout",
     "output_type": "stream",
     "text": [
      "Note: you may need to restart the kernel to use updated packages.\n"
     ]
    },
    {
     "name": "stderr",
     "output_type": "stream",
     "text": [
      "  error: subprocess-exited-with-error\n",
      "  \n",
      "  × Building wheel for chroma-hnswlib (pyproject.toml) did not run successfully.\n",
      "  │ exit code: 1\n",
      "  ╰─> [5 lines of output]\n",
      "      running bdist_wheel\n",
      "      running build\n",
      "      running build_ext\n",
      "      building 'hnswlib' extension\n",
      "      error: Microsoft Visual C++ 14.0 or greater is required. Get it with \"Microsoft C++ Build Tools\": https://visualstudio.microsoft.com/visual-cpp-build-tools/\n",
      "      [end of output]\n",
      "  \n",
      "  note: This error originates from a subprocess, and is likely not a problem with pip.\n",
      "  ERROR: Failed building wheel for chroma-hnswlib\n",
      "ERROR: ERROR: Failed to build installable wheels for some pyproject.toml based projects (chroma-hnswlib)\n"
     ]
    },
    {
     "name": "stdout",
     "output_type": "stream",
     "text": [
      "Note: you may need to restart the kernel to use updated packages.\n"
     ]
    }
   ],
   "source": [
    "%pip install --q chromadb\n",
    "%pip install --q langchain-text-splitters"
   ]
  },
  {
   "cell_type": "code",
   "execution_count": 19,
   "id": "83a39856-0cc0-4ebe-8024-9db32455a545",
   "metadata": {},
   "outputs": [],
   "source": [
    "from langchain_community.embeddings import OllamaEmbeddings\n",
    "from langchain_text_splitters import RecursiveCharacterTextSplitter\n",
    "from langchain_community.vectorstores import Chroma"
   ]
  },
  {
   "cell_type": "code",
   "execution_count": 20,
   "id": "bad040e2-3abe-4e23-abb9-951b223b9262",
   "metadata": {},
   "outputs": [],
   "source": [
    "# Split and chunk \n",
    "text_splitter = RecursiveCharacterTextSplitter(chunk_size=7500, chunk_overlap=100)\n",
    "chunks = text_splitter.split_documents(data)"
   ]
  },
  {
   "cell_type": "code",
   "execution_count": 21,
   "id": "efb11c92-e732-4a88-8f57-57a19b38e383",
   "metadata": {},
   "outputs": [
    {
     "ename": "ImportError",
     "evalue": "Could not import chromadb python package. Please install it with `pip install chromadb`.",
     "output_type": "error",
     "traceback": [
      "\u001b[1;31m---------------------------------------------------------------------------\u001b[0m",
      "\u001b[1;31mModuleNotFoundError\u001b[0m                       Traceback (most recent call last)",
      "File \u001b[1;32mc:\\Users\\Administrator\\AppData\\Local\\Programs\\Python\\Python312\\Lib\\site-packages\\langchain_community\\vectorstores\\chroma.py:83\u001b[0m, in \u001b[0;36mChroma.__init__\u001b[1;34m(self, collection_name, embedding_function, persist_directory, client_settings, collection_metadata, client, relevance_score_fn)\u001b[0m\n\u001b[0;32m     82\u001b[0m \u001b[38;5;28;01mtry\u001b[39;00m:\n\u001b[1;32m---> 83\u001b[0m     \u001b[38;5;28;01mimport\u001b[39;00m \u001b[38;5;21;01mchromadb\u001b[39;00m\n\u001b[0;32m     84\u001b[0m     \u001b[38;5;28;01mimport\u001b[39;00m \u001b[38;5;21;01mchromadb\u001b[39;00m\u001b[38;5;21;01m.\u001b[39;00m\u001b[38;5;21;01mconfig\u001b[39;00m\n",
      "\u001b[1;31mModuleNotFoundError\u001b[0m: No module named 'chromadb'",
      "\nDuring handling of the above exception, another exception occurred:\n",
      "\u001b[1;31mImportError\u001b[0m                               Traceback (most recent call last)",
      "Cell \u001b[1;32mIn[21], line 2\u001b[0m\n\u001b[0;32m      1\u001b[0m \u001b[38;5;66;03m# Add to vector database\u001b[39;00m\n\u001b[1;32m----> 2\u001b[0m vector_db \u001b[38;5;241m=\u001b[39m \u001b[43mChroma\u001b[49m\u001b[38;5;241;43m.\u001b[39;49m\u001b[43mfrom_documents\u001b[49m\u001b[43m(\u001b[49m\n\u001b[0;32m      3\u001b[0m \u001b[43m    \u001b[49m\u001b[43mdocuments\u001b[49m\u001b[38;5;241;43m=\u001b[39;49m\u001b[43mchunks\u001b[49m\u001b[43m,\u001b[49m\u001b[43m \u001b[49m\n\u001b[0;32m      4\u001b[0m \u001b[43m    \u001b[49m\u001b[43membedding\u001b[49m\u001b[38;5;241;43m=\u001b[39;49m\u001b[43mOllamaEmbeddings\u001b[49m\u001b[43m(\u001b[49m\u001b[43mmodel\u001b[49m\u001b[38;5;241;43m=\u001b[39;49m\u001b[38;5;124;43m\"\u001b[39;49m\u001b[38;5;124;43mnomic-embed-text\u001b[39;49m\u001b[38;5;124;43m\"\u001b[39;49m\u001b[43m,\u001b[49m\u001b[43mshow_progress\u001b[49m\u001b[38;5;241;43m=\u001b[39;49m\u001b[38;5;28;43;01mTrue\u001b[39;49;00m\u001b[43m)\u001b[49m\u001b[43m,\u001b[49m\n\u001b[0;32m      5\u001b[0m \u001b[43m    \u001b[49m\u001b[43mcollection_name\u001b[49m\u001b[38;5;241;43m=\u001b[39;49m\u001b[38;5;124;43m\"\u001b[39;49m\u001b[38;5;124;43mlocal-rag\u001b[39;49m\u001b[38;5;124;43m\"\u001b[39;49m\n\u001b[0;32m      6\u001b[0m \u001b[43m)\u001b[49m\n",
      "File \u001b[1;32mc:\\Users\\Administrator\\AppData\\Local\\Programs\\Python\\Python312\\Lib\\site-packages\\langchain_community\\vectorstores\\chroma.py:878\u001b[0m, in \u001b[0;36mChroma.from_documents\u001b[1;34m(cls, documents, embedding, ids, collection_name, persist_directory, client_settings, client, collection_metadata, **kwargs)\u001b[0m\n\u001b[0;32m    876\u001b[0m texts \u001b[38;5;241m=\u001b[39m [doc\u001b[38;5;241m.\u001b[39mpage_content \u001b[38;5;28;01mfor\u001b[39;00m doc \u001b[38;5;129;01min\u001b[39;00m documents]\n\u001b[0;32m    877\u001b[0m metadatas \u001b[38;5;241m=\u001b[39m [doc\u001b[38;5;241m.\u001b[39mmetadata \u001b[38;5;28;01mfor\u001b[39;00m doc \u001b[38;5;129;01min\u001b[39;00m documents]\n\u001b[1;32m--> 878\u001b[0m \u001b[38;5;28;01mreturn\u001b[39;00m \u001b[38;5;28;43mcls\u001b[39;49m\u001b[38;5;241;43m.\u001b[39;49m\u001b[43mfrom_texts\u001b[49m\u001b[43m(\u001b[49m\n\u001b[0;32m    879\u001b[0m \u001b[43m    \u001b[49m\u001b[43mtexts\u001b[49m\u001b[38;5;241;43m=\u001b[39;49m\u001b[43mtexts\u001b[49m\u001b[43m,\u001b[49m\n\u001b[0;32m    880\u001b[0m \u001b[43m    \u001b[49m\u001b[43membedding\u001b[49m\u001b[38;5;241;43m=\u001b[39;49m\u001b[43membedding\u001b[49m\u001b[43m,\u001b[49m\n\u001b[0;32m    881\u001b[0m \u001b[43m    \u001b[49m\u001b[43mmetadatas\u001b[49m\u001b[38;5;241;43m=\u001b[39;49m\u001b[43mmetadatas\u001b[49m\u001b[43m,\u001b[49m\n\u001b[0;32m    882\u001b[0m \u001b[43m    \u001b[49m\u001b[43mids\u001b[49m\u001b[38;5;241;43m=\u001b[39;49m\u001b[43mids\u001b[49m\u001b[43m,\u001b[49m\n\u001b[0;32m    883\u001b[0m \u001b[43m    \u001b[49m\u001b[43mcollection_name\u001b[49m\u001b[38;5;241;43m=\u001b[39;49m\u001b[43mcollection_name\u001b[49m\u001b[43m,\u001b[49m\n\u001b[0;32m    884\u001b[0m \u001b[43m    \u001b[49m\u001b[43mpersist_directory\u001b[49m\u001b[38;5;241;43m=\u001b[39;49m\u001b[43mpersist_directory\u001b[49m\u001b[43m,\u001b[49m\n\u001b[0;32m    885\u001b[0m \u001b[43m    \u001b[49m\u001b[43mclient_settings\u001b[49m\u001b[38;5;241;43m=\u001b[39;49m\u001b[43mclient_settings\u001b[49m\u001b[43m,\u001b[49m\n\u001b[0;32m    886\u001b[0m \u001b[43m    \u001b[49m\u001b[43mclient\u001b[49m\u001b[38;5;241;43m=\u001b[39;49m\u001b[43mclient\u001b[49m\u001b[43m,\u001b[49m\n\u001b[0;32m    887\u001b[0m \u001b[43m    \u001b[49m\u001b[43mcollection_metadata\u001b[49m\u001b[38;5;241;43m=\u001b[39;49m\u001b[43mcollection_metadata\u001b[49m\u001b[43m,\u001b[49m\n\u001b[0;32m    888\u001b[0m \u001b[43m    \u001b[49m\u001b[38;5;241;43m*\u001b[39;49m\u001b[38;5;241;43m*\u001b[39;49m\u001b[43mkwargs\u001b[49m\u001b[43m,\u001b[49m\n\u001b[0;32m    889\u001b[0m \u001b[43m\u001b[49m\u001b[43m)\u001b[49m\n",
      "File \u001b[1;32mc:\\Users\\Administrator\\AppData\\Local\\Programs\\Python\\Python312\\Lib\\site-packages\\langchain_community\\vectorstores\\chroma.py:814\u001b[0m, in \u001b[0;36mChroma.from_texts\u001b[1;34m(cls, texts, embedding, metadatas, ids, collection_name, persist_directory, client_settings, client, collection_metadata, **kwargs)\u001b[0m\n\u001b[0;32m    781\u001b[0m \u001b[38;5;129m@classmethod\u001b[39m\n\u001b[0;32m    782\u001b[0m \u001b[38;5;28;01mdef\u001b[39;00m \u001b[38;5;21mfrom_texts\u001b[39m(\n\u001b[0;32m    783\u001b[0m     \u001b[38;5;28mcls\u001b[39m: Type[Chroma],\n\u001b[1;32m   (...)\u001b[0m\n\u001b[0;32m    793\u001b[0m     \u001b[38;5;241m*\u001b[39m\u001b[38;5;241m*\u001b[39mkwargs: Any,\n\u001b[0;32m    794\u001b[0m ) \u001b[38;5;241m-\u001b[39m\u001b[38;5;241m>\u001b[39m Chroma:\n\u001b[0;32m    795\u001b[0m \u001b[38;5;250m    \u001b[39m\u001b[38;5;124;03m\"\"\"Create a Chroma vectorstore from a raw documents.\u001b[39;00m\n\u001b[0;32m    796\u001b[0m \n\u001b[0;32m    797\u001b[0m \u001b[38;5;124;03m    If a persist_directory is specified, the collection will be persisted there.\u001b[39;00m\n\u001b[1;32m   (...)\u001b[0m\n\u001b[0;32m    812\u001b[0m \u001b[38;5;124;03m        Chroma: Chroma vectorstore.\u001b[39;00m\n\u001b[0;32m    813\u001b[0m \u001b[38;5;124;03m    \"\"\"\u001b[39;00m\n\u001b[1;32m--> 814\u001b[0m     chroma_collection \u001b[38;5;241m=\u001b[39m \u001b[38;5;28;43mcls\u001b[39;49m\u001b[43m(\u001b[49m\n\u001b[0;32m    815\u001b[0m \u001b[43m        \u001b[49m\u001b[43mcollection_name\u001b[49m\u001b[38;5;241;43m=\u001b[39;49m\u001b[43mcollection_name\u001b[49m\u001b[43m,\u001b[49m\n\u001b[0;32m    816\u001b[0m \u001b[43m        \u001b[49m\u001b[43membedding_function\u001b[49m\u001b[38;5;241;43m=\u001b[39;49m\u001b[43membedding\u001b[49m\u001b[43m,\u001b[49m\n\u001b[0;32m    817\u001b[0m \u001b[43m        \u001b[49m\u001b[43mpersist_directory\u001b[49m\u001b[38;5;241;43m=\u001b[39;49m\u001b[43mpersist_directory\u001b[49m\u001b[43m,\u001b[49m\n\u001b[0;32m    818\u001b[0m \u001b[43m        \u001b[49m\u001b[43mclient_settings\u001b[49m\u001b[38;5;241;43m=\u001b[39;49m\u001b[43mclient_settings\u001b[49m\u001b[43m,\u001b[49m\n\u001b[0;32m    819\u001b[0m \u001b[43m        \u001b[49m\u001b[43mclient\u001b[49m\u001b[38;5;241;43m=\u001b[39;49m\u001b[43mclient\u001b[49m\u001b[43m,\u001b[49m\n\u001b[0;32m    820\u001b[0m \u001b[43m        \u001b[49m\u001b[43mcollection_metadata\u001b[49m\u001b[38;5;241;43m=\u001b[39;49m\u001b[43mcollection_metadata\u001b[49m\u001b[43m,\u001b[49m\n\u001b[0;32m    821\u001b[0m \u001b[43m        \u001b[49m\u001b[38;5;241;43m*\u001b[39;49m\u001b[38;5;241;43m*\u001b[39;49m\u001b[43mkwargs\u001b[49m\u001b[43m,\u001b[49m\n\u001b[0;32m    822\u001b[0m \u001b[43m    \u001b[49m\u001b[43m)\u001b[49m\n\u001b[0;32m    823\u001b[0m     \u001b[38;5;28;01mif\u001b[39;00m ids \u001b[38;5;129;01mis\u001b[39;00m \u001b[38;5;28;01mNone\u001b[39;00m:\n\u001b[0;32m    824\u001b[0m         ids \u001b[38;5;241m=\u001b[39m [\u001b[38;5;28mstr\u001b[39m(uuid\u001b[38;5;241m.\u001b[39muuid4()) \u001b[38;5;28;01mfor\u001b[39;00m _ \u001b[38;5;129;01min\u001b[39;00m texts]\n",
      "File \u001b[1;32mc:\\Users\\Administrator\\AppData\\Local\\Programs\\Python\\Python312\\Lib\\site-packages\\langchain_core\\_api\\deprecation.py:214\u001b[0m, in \u001b[0;36mdeprecated.<locals>.deprecate.<locals>.finalize.<locals>.warn_if_direct_instance\u001b[1;34m(self, *args, **kwargs)\u001b[0m\n\u001b[0;32m    212\u001b[0m     warned \u001b[38;5;241m=\u001b[39m \u001b[38;5;28;01mTrue\u001b[39;00m\n\u001b[0;32m    213\u001b[0m     emit_warning()\n\u001b[1;32m--> 214\u001b[0m \u001b[38;5;28;01mreturn\u001b[39;00m \u001b[43mwrapped\u001b[49m\u001b[43m(\u001b[49m\u001b[38;5;28;43mself\u001b[39;49m\u001b[43m,\u001b[49m\u001b[43m \u001b[49m\u001b[38;5;241;43m*\u001b[39;49m\u001b[43margs\u001b[49m\u001b[43m,\u001b[49m\u001b[43m \u001b[49m\u001b[38;5;241;43m*\u001b[39;49m\u001b[38;5;241;43m*\u001b[39;49m\u001b[43mkwargs\u001b[49m\u001b[43m)\u001b[49m\n",
      "File \u001b[1;32mc:\\Users\\Administrator\\AppData\\Local\\Programs\\Python\\Python312\\Lib\\site-packages\\langchain_community\\vectorstores\\chroma.py:86\u001b[0m, in \u001b[0;36mChroma.__init__\u001b[1;34m(self, collection_name, embedding_function, persist_directory, client_settings, collection_metadata, client, relevance_score_fn)\u001b[0m\n\u001b[0;32m     84\u001b[0m     \u001b[38;5;28;01mimport\u001b[39;00m \u001b[38;5;21;01mchromadb\u001b[39;00m\u001b[38;5;21;01m.\u001b[39;00m\u001b[38;5;21;01mconfig\u001b[39;00m\n\u001b[0;32m     85\u001b[0m \u001b[38;5;28;01mexcept\u001b[39;00m \u001b[38;5;167;01mImportError\u001b[39;00m:\n\u001b[1;32m---> 86\u001b[0m     \u001b[38;5;28;01mraise\u001b[39;00m \u001b[38;5;167;01mImportError\u001b[39;00m(\n\u001b[0;32m     87\u001b[0m         \u001b[38;5;124m\"\u001b[39m\u001b[38;5;124mCould not import chromadb python package. \u001b[39m\u001b[38;5;124m\"\u001b[39m\n\u001b[0;32m     88\u001b[0m         \u001b[38;5;124m\"\u001b[39m\u001b[38;5;124mPlease install it with `pip install chromadb`.\u001b[39m\u001b[38;5;124m\"\u001b[39m\n\u001b[0;32m     89\u001b[0m     )\n\u001b[0;32m     91\u001b[0m \u001b[38;5;28;01mif\u001b[39;00m client \u001b[38;5;129;01mis\u001b[39;00m \u001b[38;5;129;01mnot\u001b[39;00m \u001b[38;5;28;01mNone\u001b[39;00m:\n\u001b[0;32m     92\u001b[0m     \u001b[38;5;28mself\u001b[39m\u001b[38;5;241m.\u001b[39m_client_settings \u001b[38;5;241m=\u001b[39m client_settings\n",
      "\u001b[1;31mImportError\u001b[0m: Could not import chromadb python package. Please install it with `pip install chromadb`."
     ]
    }
   ],
   "source": [
    "# Add to vector database\n",
    "vector_db = Chroma.from_documents(\n",
    "    documents=chunks, \n",
    "    embedding=OllamaEmbeddings(model=\"nomic-embed-text\",show_progress=True),\n",
    "    collection_name=\"local-rag\"\n",
    ")"
   ]
  },
  {
   "cell_type": "markdown",
   "id": "39eadf50-2f3d-4420-8858-94e9c1682ffa",
   "metadata": {},
   "source": [
    "## Retrieval"
   ]
  },
  {
   "cell_type": "code",
   "execution_count": null,
   "id": "5ec338c4-f282-462f-b0a0-c1899538eb07",
   "metadata": {},
   "outputs": [],
   "source": [
    "from langchain.prompts import ChatPromptTemplate, PromptTemplate\n",
    "from langchain_core.output_parsers import StrOutputParser\n",
    "from langchain_community.chat_models import ChatOllama\n",
    "from langchain_core.runnables import RunnablePassthrough\n",
    "from langchain.retrievers.multi_query import MultiQueryRetriever"
   ]
  },
  {
   "cell_type": "code",
   "execution_count": null,
   "id": "d1d6ceeb-6883-4688-b923-e771c2b2cb07",
   "metadata": {},
   "outputs": [],
   "source": [
    "# LLM from Ollama\n",
    "local_model = \"mistral\"\n",
    "llm = ChatOllama(model=local_model)"
   ]
  },
  {
   "cell_type": "code",
   "execution_count": null,
   "id": "c436d5cd-5dd0-448c-b5c0-6eddab879c2a",
   "metadata": {},
   "outputs": [],
   "source": [
    "QUERY_PROMPT = PromptTemplate(\n",
    "    input_variables=[\"question\"],\n",
    "    template=\"\"\"You are an AI language model assistant. Your task is to generate five\n",
    "    different versions of the given user question to retrieve relevant documents from\n",
    "    a vector database. By generating multiple perspectives on the user question, your\n",
    "    goal is to help the user overcome some of the limitations of the distance-based\n",
    "    similarity search. Provide these alternative questions separated by newlines.\n",
    "    Original question: {question}\"\"\",\n",
    ")"
   ]
  },
  {
   "cell_type": "code",
   "execution_count": null,
   "id": "71e423dc-f632-46f8-9bec-d74cb268ab74",
   "metadata": {},
   "outputs": [],
   "source": [
    "retriever = MultiQueryRetriever.from_llm(\n",
    "    vector_db.as_retriever(), \n",
    "    llm,\n",
    "    prompt=QUERY_PROMPT\n",
    ")\n",
    "\n",
    "# RAG prompt\n",
    "template = \"\"\"Answer the question based ONLY on the following context:\n",
    "{context}\n",
    "Question: {question}\n",
    "\"\"\"\n",
    "\n",
    "prompt = ChatPromptTemplate.from_template(template)"
   ]
  },
  {
   "cell_type": "code",
   "execution_count": null,
   "id": "cb1f308f-8472-4506-9517-d79b61d408f2",
   "metadata": {},
   "outputs": [],
   "source": [
    "chain = (\n",
    "    {\"context\": retriever, \"question\": RunnablePassthrough()}\n",
    "    | prompt\n",
    "    | llm\n",
    "    | StrOutputParser()\n",
    ")"
   ]
  },
  {
   "cell_type": "code",
   "execution_count": null,
   "id": "915fb18b-cb57-42cf-a9b3-c6f95d3c4e32",
   "metadata": {
    "scrolled": true
   },
   "outputs": [
    {
     "name": "stdout",
     "output_type": "stream",
     "text": [
      " what is this about?\n"
     ]
    },
    {
     "name": "stderr",
     "output_type": "stream",
     "text": [
      "OllamaEmbeddings: 100%|███████████████████████████| 1/1 [00:01<00:00,  1.15s/it]\n",
      "OllamaEmbeddings: 100%|███████████████████████████| 1/1 [00:00<00:00, 36.58it/s]\n",
      "OllamaEmbeddings: 100%|███████████████████████████| 1/1 [00:00<00:00, 14.64it/s]\n",
      "OllamaEmbeddings: 100%|███████████████████████████| 1/1 [00:00<00:00, 23.34it/s]\n",
      "OllamaEmbeddings: 100%|███████████████████████████| 1/1 [00:00<00:00, 23.14it/s]\n"
     ]
    },
    {
     "data": {
      "text/plain": [
       "' This document is the Insight Report of The Global Cooperation Barometer 2024 by the World Economic Forum in collaboration with McKinsey & Company. It provides an analysis of the state of global cooperation across five pillars: trade and capital, innovation and technology, climate and natural capital, health and wellness, and peace and security. The report examines trends in cooperative actions and their outcomes to determine the overall level of global cooperation in each area. It also includes recommendations for leaders on how to reimagine global cooperation in a new era.'"
      ]
     },
     "execution_count": 518,
     "metadata": {},
     "output_type": "execute_result"
    }
   ],
   "source": [
    "chain.invoke(input(\"\"))"
   ]
  },
  {
   "cell_type": "code",
   "execution_count": null,
   "id": "06c25c1d-d205-409e-90a2-179d0bd7c41a",
   "metadata": {},
   "outputs": [
    {
     "name": "stderr",
     "output_type": "stream",
     "text": [
      "OllamaEmbeddings: 100%|███████████████████████████| 1/1 [00:01<00:00,  1.33s/it]\n",
      "OllamaEmbeddings: 100%|███████████████████████████| 1/1 [00:00<00:00, 26.36it/s]\n",
      "OllamaEmbeddings: 100%|███████████████████████████| 1/1 [00:00<00:00, 36.23it/s]\n",
      "OllamaEmbeddings: 100%|███████████████████████████| 1/1 [00:00<00:00, 49.43it/s]\n",
      "OllamaEmbeddings: 100%|███████████████████████████| 1/1 [00:00<00:00, 63.03it/s]\n",
      "OllamaEmbeddings: 100%|███████████████████████████| 1/1 [00:00<00:00, 58.14it/s]\n",
      "OllamaEmbeddings: 100%|███████████████████████████| 1/1 [00:00<00:00, 59.76it/s]\n",
      "OllamaEmbeddings: 100%|███████████████████████████| 1/1 [00:00<00:00, 56.69it/s]\n",
      "OllamaEmbeddings: 100%|███████████████████████████| 1/1 [00:00<00:00, 48.34it/s]\n",
      "OllamaEmbeddings: 100%|███████████████████████████| 1/1 [00:00<00:00, 51.85it/s]\n"
     ]
    },
    {
     "data": {
      "text/plain": [
       "' The 5 pillars of global cooperation are:\\n\\n1. Trade and capital\\n2. Innovation and technology\\n3. Climate and natural capital\\n4. Health and wellness\\n5. Peace and security.'"
      ]
     },
     "execution_count": 519,
     "metadata": {},
     "output_type": "execute_result"
    }
   ],
   "source": [
    "chain.invoke(\"What are the 5 pillars of global cooperation?\")"
   ]
  },
  {
   "cell_type": "code",
   "execution_count": null,
   "id": "dfe79f21-48aa-4820-aa9f-79f3d1a0a519",
   "metadata": {},
   "outputs": [],
   "source": [
    "# Delete all collections in the db\n",
    "vector_db.delete_collection()"
   ]
  }
 ],
 "metadata": {
  "kernelspec": {
   "display_name": "Python 3 (ipykernel)",
   "language": "python",
   "name": "python3"
  },
  "language_info": {
   "codemirror_mode": {
    "name": "ipython",
    "version": 3
   },
   "file_extension": ".py",
   "mimetype": "text/x-python",
   "name": "python",
   "nbconvert_exporter": "python",
   "pygments_lexer": "ipython3",
   "version": "3.12.3"
  }
 },
 "nbformat": 4,
 "nbformat_minor": 5
}
